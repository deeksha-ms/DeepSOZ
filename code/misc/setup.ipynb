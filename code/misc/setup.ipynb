{
 "cells": [
  {
   "cell_type": "code",
   "execution_count": 1,
   "id": "8d6e458a",
   "metadata": {},
   "outputs": [],
   "source": [
    "import numpy as np \n",
    "import pandas as pd\n",
    "import matplotlib.pyplot as plt\n",
    "import json\n",
    "import os"
   ]
  },
  {
   "cell_type": "code",
   "execution_count": 2,
   "id": "bb4dae00",
   "metadata": {},
   "outputs": [
    {
     "data": {
      "text/plain": [
       "4"
      ]
     },
     "execution_count": 2,
     "metadata": {},
     "output_type": "execute_result"
    }
   ],
   "source": [
    "14%5"
   ]
  },
  {
   "cell_type": "code",
   "execution_count": 2,
   "id": "19873bd7",
   "metadata": {},
   "outputs": [
    {
     "name": "stderr",
     "output_type": "stream",
     "text": [
      "/home/deeksha/anaconda3/envs/deepai/lib/python3.7/site-packages/tqdm/auto.py:22: TqdmWarning: IProgress not found. Please update jupyter and ipywidgets. See https://ipywidgets.readthedocs.io/en/stable/user_install.html\n",
      "  from .autonotebook import tqdm as notebook_tqdm\n"
     ]
    }
   ],
   "source": [
    "from utils import * \n",
    "from dataloader import *\n",
    "from txlstm_szpool import *"
   ]
  },
  {
   "cell_type": "code",
   "execution_count": 3,
   "id": "52f20157",
   "metadata": {},
   "outputs": [
    {
     "data": {
      "text/plain": [
       "RandomState(MT19937) at 0x7FD7EC6175A0"
      ]
     },
     "execution_count": 3,
     "metadata": {},
     "output_type": "execute_result"
    }
   ],
   "source": [
    "np.random.RandomState()"
   ]
  },
  {
   "cell_type": "code",
   "execution_count": 6,
   "id": "bdd9daf8",
   "metadata": {},
   "outputs": [],
   "source": [
    "pt_list = np.load('pts.npy')\n",
    "manifest = read_manifest('data/tuh_single_windowed_manifest.csv', ',')\n",
    "np.random.shuffle(pt_list)\n",
    "\n"
   ]
  },
  {
   "cell_type": "code",
   "execution_count": null,
   "id": "f3a1b8bf",
   "metadata": {},
   "outputs": [],
   "source": [
    "np.save('pts_rs1.npy', pt_list)\n",
    "del pt_list\n",
    "pt_list_rs0 = np.load('pts_rs1.npy')"
   ]
  },
  {
   "cell_type": "code",
   "execution_count": 7,
   "id": "f389d1db",
   "metadata": {},
   "outputs": [],
   "source": [
    "nfolds = 5 \n",
    "testsize = 24\n",
    "step = 24\n",
    "for fold in range(nfolds):\n",
    "    test_pts = pt_list_rs0[fold*step: (fold+1)*step]\n",
    "    train_pts = [pt for pt in pt_list_rs0 if pt not in test_pts ]\n",
    "    \n",
    "    if not os.path.exists('crossval_rs1'):\n",
    "        os.mkdir('crossval_rs1')\n",
    "    if not os.path.exists('crossval_rs1/fold'+str(fold)):\n",
    "        os.mkdir('crossval_rs1/fold'+str(fold))\n",
    "        \n",
    "    loc = 'crossval_rs1/fold'+str(fold)+'/'\n",
    "    np.save(loc+'pts_test'+str(fold)+'.npy', test_pts)\n",
    "    np.save(loc+'pts_train'+str(fold)+'.npy', train_pts)"
   ]
  },
  {
   "cell_type": "code",
   "execution_count": 22,
   "id": "2dcd8e02",
   "metadata": {},
   "outputs": [
    {
     "name": "stdout",
     "output_type": "stream",
     "text": [
      "yay\n",
      "yay\n",
      "yay\n",
      "yay\n",
      "yay\n"
     ]
    }
   ],
   "source": [
    "for fold in range(nfolds):\n",
    "    pts_old = np.load('crossval/fold'+str(fold)+'/pts_test'+str(fold)+'.npy')\n",
    "    pts_rs0 = np.load('crossval_rs0/fold'+str(fold)+'/pts_test'+str(fold)+'.npy')\n",
    "    pts_rs1 = np.load('crossval_rs1/fold'+str(fold)+'/pts_test'+str(fold)+'.npy')\n",
    "    pts_old.sort()\n",
    "    pts_rs0.sort()\n",
    "    pts_rs1.sort()\n",
    "    if (pts_old == pts_rs0).all() or (pts_rs0 == pts_rs1).all() or (pts_old == pts_rs1).all():\n",
    "        print('oops')\n",
    "    else:\n",
    "        print('yay')"
   ]
  },
  {
   "cell_type": "code",
   "execution_count": 18,
   "id": "6c3a6231",
   "metadata": {},
   "outputs": [],
   "source": [
    "pr"
   ]
  },
  {
   "cell_type": "code",
   "execution_count": 6,
   "id": "95e0a9e6",
   "metadata": {},
   "outputs": [
    {
     "name": "stdout",
     "output_type": "stream",
     "text": [
      "0 safe\n",
      "1 safe\n",
      "2 safe\n",
      "3 safe\n",
      "4 safe\n"
     ]
    }
   ],
   "source": [
    "for fold in range(5):\n",
    "    test = np.load('crossval_rs0/fold'+str(fold)+'/pts_test'+str(fold)+'.npy')\n",
    "    train = np.load('crossval_rs0/fold'+str(fold)+'/pts_train'+str(fold)+'.npy')\n",
    "    trig = 0\n",
    "    for t in train:\n",
    "        if t in test:\n",
    "            trig = 1\n",
    "    if trig == 0:\n",
    "        print(fold, 'safe')\n",
    "    else:\n",
    "        print(fold, 'oops')"
   ]
  },
  {
   "cell_type": "markdown",
   "id": "3fd61762",
   "metadata": {},
   "source": [
    "# dataset\n"
   ]
  },
  {
   "cell_type": "code",
   "execution_count": 7,
   "id": "5fcf3bbb",
   "metadata": {},
   "outputs": [],
   "source": [
    "pt_list = np.load('pts.npy')\n",
    "manifest = read_manifest('data/tuh_single_windowed_manifest.csv', ',')"
   ]
  },
  {
   "cell_type": "code",
   "execution_count": 8,
   "id": "fb6a1226",
   "metadata": {},
   "outputs": [
    {
     "data": {
      "text/plain": [
       "634"
      ]
     },
     "execution_count": 8,
     "metadata": {},
     "output_type": "execute_result"
    }
   ],
   "source": [
    "len(manifest)"
   ]
  },
  {
   "cell_type": "code",
   "execution_count": 9,
   "id": "4b4c8844",
   "metadata": {},
   "outputs": [
    {
     "data": {
      "text/plain": [
       "124"
      ]
     },
     "execution_count": 9,
     "metadata": {},
     "output_type": "execute_result"
    }
   ],
   "source": [
    "len(pt_list)"
   ]
  },
  {
   "cell_type": "code",
   "execution_count": 10,
   "id": "ea6d8747",
   "metadata": {},
   "outputs": [
    {
     "data": {
      "text/plain": [
       "OrderedDict([('', '0'),\n",
       "             ('pt_id', '883'),\n",
       "             ('fn', '00000883_s002_t000.npy'),\n",
       "             ('loc', 'data/tuh_windowed/00000883_s002_t000_win.npy'),\n",
       "             ('fs', '200'),\n",
       "             ('duration', '600'),\n",
       "             ('nsamples', '320200'),\n",
       "             ('nchns', '19'),\n",
       "             ('nsz', '10'),\n",
       "             ('sz_starts',\n",
       "              '[20.636, 181.14, 337.1, 489.884, 643.744, 801.684, 944.012, 1118.98, 1273.7128, 1420.072]'),\n",
       "             ('sz_ends',\n",
       "              '[115.516, 277.1, 423.828, 576.86, 733.358, 876.0815, 1026.2029, 1212.088, 1396.068, 1521.948]'),\n",
       "             ('onset_zone', '[2]'),\n",
       "             ('hemi', 'R'),\n",
       "             ('region', 'P'),\n",
       "             ('fp1', '0'),\n",
       "             ('f7', '0'),\n",
       "             ('t3', '0'),\n",
       "             ('t5', '0'),\n",
       "             ('o1', '0'),\n",
       "             ('f3', '0'),\n",
       "             ('c3', '0'),\n",
       "             ('p3', '0'),\n",
       "             ('fz', '0'),\n",
       "             ('cz', '0'),\n",
       "             ('pz', '0'),\n",
       "             ('fp2', '0'),\n",
       "             ('f8', '0'),\n",
       "             ('t4', '1'),\n",
       "             ('t6', '1'),\n",
       "             ('o2', '0'),\n",
       "             ('f4', '0'),\n",
       "             ('c4', '0'),\n",
       "             ('p4', '0'),\n",
       "             ('oz', '0'),\n",
       "             ('a1', '0'),\n",
       "             ('a2', '0'),\n",
       "             ('Comments', 'right temporal')])"
      ]
     },
     "execution_count": 10,
     "metadata": {},
     "output_type": "execute_result"
    }
   ],
   "source": [
    "manifest[0]"
   ]
  },
  {
   "cell_type": "markdown",
   "id": "15b40ff4",
   "metadata": {},
   "source": [
    "# nsz"
   ]
  },
  {
   "cell_type": "code",
   "execution_count": 13,
   "id": "09dc1579",
   "metadata": {},
   "outputs": [],
   "source": [
    "pt_sz = dict(zip(pt_list, [0]*len(pt_list)))\n",
    "\n",
    "for mn in manifest:\n",
    "    ptid = int(mn['pt_id'])\n",
    "    val = pt_sz[ptid]\n",
    "    n = min(int(mn['nsz']), 10)\n",
    "    #n = min(n, 10)\n",
    "#\n",
    "    pt_sz[ptid] = val+n"
   ]
  },
  {
   "cell_type": "code",
   "execution_count": 14,
   "id": "b032e2ec",
   "metadata": {},
   "outputs": [
    {
     "name": "stdout",
     "output_type": "stream",
     "text": [
      "12.459677419354838 20.346751818739055 146 1\n"
     ]
    }
   ],
   "source": [
    "nseiz = np.array(list(pt_sz.values()))\n",
    "print(nseiz.mean(),nseiz.std(), nseiz.max(), nseiz.min())"
   ]
  },
  {
   "cell_type": "markdown",
   "id": "552e1325",
   "metadata": {},
   "source": [
    "# dur"
   ]
  },
  {
   "cell_type": "code",
   "execution_count": 15,
   "id": "cd271711",
   "metadata": {},
   "outputs": [],
   "source": [
    "oldman = read_manifest('data/tuh_windowed_manifest.csv', ',')"
   ]
  },
  {
   "cell_type": "code",
   "execution_count": 16,
   "id": "0917dff8",
   "metadata": {},
   "outputs": [
    {
     "data": {
      "text/plain": [
       "OrderedDict([('', '11'),\n",
       "             ('pt_id', '2806'),\n",
       "             ('fn', '00002806_s001_t003.npy'),\n",
       "             ('loc', 'data/tuh_preprocessed/00002806_s001_t003_win.npy'),\n",
       "             ('fs', '200'),\n",
       "             ('duration', '165'),\n",
       "             ('nsamples', '33000'),\n",
       "             ('nchns', '19'),\n",
       "             ('nsz', '3'),\n",
       "             ('sz_starts', '[1.0, 52.3775, 149.715]'),\n",
       "             ('sz_ends', '[17.35, 111.2374, 163.715]'),\n",
       "             ('onset_zone', '[2]'),\n",
       "             ('hemi', 'R'),\n",
       "             ('region', 'P'),\n",
       "             ('fp1', '0'),\n",
       "             ('f7', '0'),\n",
       "             ('t3', '0'),\n",
       "             ('t5', '0'),\n",
       "             ('o1', '0'),\n",
       "             ('f3', '0'),\n",
       "             ('c3', '0'),\n",
       "             ('p3', '0'),\n",
       "             ('fz', '0'),\n",
       "             ('cz', '0'),\n",
       "             ('pz', '0'),\n",
       "             ('fp2', '0'),\n",
       "             ('f8', '1'),\n",
       "             ('t4', '1'),\n",
       "             ('t6', '0'),\n",
       "             ('o2', '0'),\n",
       "             ('f4', '0'),\n",
       "             ('c4', '0'),\n",
       "             ('p4', '0'),\n",
       "             ('oz', '0'),\n",
       "             ('a1', '0'),\n",
       "             ('a2', '0'),\n",
       "             ('Comments', 'right frontotemporal')])"
      ]
     },
     "execution_count": 16,
     "metadata": {},
     "output_type": "execute_result"
    }
   ],
   "source": [
    "oldman[9]"
   ]
  },
  {
   "cell_type": "code",
   "execution_count": 17,
   "id": "b36bc97b",
   "metadata": {},
   "outputs": [
    {
     "data": {
      "text/plain": [
       "641"
      ]
     },
     "execution_count": 17,
     "metadata": {},
     "output_type": "execute_result"
    }
   ],
   "source": [
    "len(oldman)"
   ]
  },
  {
   "cell_type": "code",
   "execution_count": 18,
   "id": "e4224ba1",
   "metadata": {},
   "outputs": [
    {
     "data": {
      "text/plain": [
       "OrderedDict([('', '0'),\n",
       "             ('pt_id', '883'),\n",
       "             ('fn', '00000883_s002_t000.npy'),\n",
       "             ('loc', 'data/tuh_windowed/00000883_s002_t000_win.npy'),\n",
       "             ('fs', '200'),\n",
       "             ('duration', '600'),\n",
       "             ('nsamples', '320200'),\n",
       "             ('nchns', '19'),\n",
       "             ('nsz', '10'),\n",
       "             ('sz_starts',\n",
       "              '[20.636, 181.14, 337.1, 489.884, 643.744, 801.684, 944.012, 1118.98, 1273.7128, 1420.072]'),\n",
       "             ('sz_ends',\n",
       "              '[115.516, 277.1, 423.828, 576.86, 733.358, 876.0815, 1026.2029, 1212.088, 1396.068, 1521.948]'),\n",
       "             ('onset_zone', '[2]'),\n",
       "             ('hemi', 'R'),\n",
       "             ('region', 'P'),\n",
       "             ('fp1', '0'),\n",
       "             ('f7', '0'),\n",
       "             ('t3', '0'),\n",
       "             ('t5', '0'),\n",
       "             ('o1', '0'),\n",
       "             ('f3', '0'),\n",
       "             ('c3', '0'),\n",
       "             ('p3', '0'),\n",
       "             ('fz', '0'),\n",
       "             ('cz', '0'),\n",
       "             ('pz', '0'),\n",
       "             ('fp2', '0'),\n",
       "             ('f8', '0'),\n",
       "             ('t4', '1'),\n",
       "             ('t6', '1'),\n",
       "             ('o2', '0'),\n",
       "             ('f4', '0'),\n",
       "             ('c4', '0'),\n",
       "             ('p4', '0'),\n",
       "             ('oz', '0'),\n",
       "             ('a1', '0'),\n",
       "             ('a2', '0'),\n",
       "             ('Comments', 'right temporal')])"
      ]
     },
     "execution_count": 18,
     "metadata": {},
     "output_type": "execute_result"
    }
   ],
   "source": [
    "manifest[0]"
   ]
  },
  {
   "cell_type": "code",
   "execution_count": 20,
   "id": "c0c700c3",
   "metadata": {},
   "outputs": [
    {
     "name": "stderr",
     "output_type": "stream",
     "text": [
      "/home/deeksha/anaconda3/envs/deepai/lib/python3.7/site-packages/numpy/lib/function_base.py:804: VisibleDeprecationWarning: Creating an ndarray from ragged nested sequences (which is a list-or-tuple of lists-or-tuples-or ndarrays with different lengths or shapes) is deprecated. If you meant to do this, you must specify 'dtype=object' when creating the ndarray.\n",
      "  return array(a, order=order, subok=subok, copy=True)\n"
     ]
    }
   ],
   "source": [
    "pt_totdur = dict(zip(pt_list, [0]*len(pt_list)))\n",
    "pt_szdur = dict(zip(pt_list, [[]]*len(pt_list)))\n",
    "for i, mn in enumerate(oldman):\n",
    "    \n",
    "    ptid = int(mn['pt_id'])\n",
    "    \n",
    "    dur = pt_totdur[ptid]\n",
    "    szdur = list(np.copy(pt_szdur[ptid]))\n",
    "  \n",
    "    val = int(mn['duration'])\n",
    " \n",
    "    pt_totdur[ptid] = dur+val\n",
    "    \n",
    "    s = np.array(json.loads(mn['sz_starts']))\n",
    "    e = np.array(json.loads(mn['sz_ends']))\n",
    "    vals = np.round(e-s)[:10]\n",
    "   \n",
    "    szdur.append(vals)\n",
    "    pt_szdur[ptid] = np.copy(szdur)\n",
    "\n",
    "    "
   ]
  },
  {
   "cell_type": "code",
   "execution_count": 21,
   "id": "b557b2f1",
   "metadata": {},
   "outputs": [
    {
     "name": "stdout",
     "output_type": "stream",
     "text": [
      "1.315013440860215 2.205739717234951 20.94333333333333 0.0025\n"
     ]
    }
   ],
   "source": [
    "durs = np.array(list(pt_totdur.values()))/3600\n",
    "print(durs.mean(),durs.std(), durs.max(), durs.min())"
   ]
  },
  {
   "cell_type": "code",
   "execution_count": 22,
   "id": "4648665e",
   "metadata": {},
   "outputs": [],
   "source": [
    "szdurs = []\n",
    "for i in pt_list:\n",
    "    szdurs.append(np.concatenate(pt_szdur[i]).mean())\n",
    "    \n",
    "szdurs = np.array(szdurs)"
   ]
  },
  {
   "cell_type": "code",
   "execution_count": 23,
   "id": "96e3c8ba",
   "metadata": {},
   "outputs": [
    {
     "name": "stdout",
     "output_type": "stream",
     "text": [
      "88.98503241601 121.479206821697 1121.0 7.5\n"
     ]
    }
   ],
   "source": [
    "print(szdurs.mean(),szdurs.std(), szdurs.max(), szdurs.min())"
   ]
  },
  {
   "cell_type": "code",
   "execution_count": 122,
   "id": "2cbc9c8d",
   "metadata": {},
   "outputs": [
    {
     "data": {
      "text/plain": [
       "124"
      ]
     },
     "execution_count": 122,
     "metadata": {},
     "output_type": "execute_result"
    }
   ],
   "source": [
    "len(durs)"
   ]
  },
  {
   "cell_type": "code",
   "execution_count": 128,
   "id": "0eadf6db",
   "metadata": {},
   "outputs": [],
   "source": [
    "df = pd.DataFrame({'pt id': list(pt_sz.keys()),\n",
    "                    'nsz': list(pt_sz.values()), \n",
    "                 'tot dur': durs, \n",
    "                 'sz dur': szdurs})"
   ]
  },
  {
   "cell_type": "code",
   "execution_count": 130,
   "id": "a95b0adb",
   "metadata": {},
   "outputs": [],
   "source": [
    "df.to_csv('demo.csv')\n"
   ]
  },
  {
   "cell_type": "code",
   "execution_count": 155,
   "id": "6755a780",
   "metadata": {},
   "outputs": [
    {
     "name": "stdout",
     "output_type": "stream",
     "text": [
      "883 883 1\n",
      "906 906 1\n",
      "1981 1981 0\n",
      "2521 2521 1\n",
      "2707 2707 0\n",
      "2806 2806 1\n",
      "2991 2991 1\n",
      "4049 4049 1\n",
      "4456 4456 1\n",
      "5427 5427 1\n",
      "6103 6103 0\n",
      "6175 6175 0\n",
      "6440 6440 1\n",
      "6444 6444 1\n",
      "6455 6455 0\n",
      "6535 6535 0\n",
      "6563 6563 1\n",
      "6811 6811 0\n",
      "6904 6904 0\n",
      "7032 7032 1\n",
      "7095 7095 0\n",
      "7235 7235 0\n",
      "7446 7446 0\n",
      "7584 7584 0\n",
      "7793 7793 1\n",
      "7839 7839 1\n",
      "7936 7936 0\n",
      "7937 7937 0\n",
      "8092 8092 1\n",
      "8164 8164 0\n",
      "8295 8295 1\n",
      "8345 8345 1\n",
      "8444 8444 0\n",
      "8476 8476 0\n",
      "8527 8527 0\n",
      "8608 8608 0\n",
      "8616 8616 1\n",
      "9050 9050 1\n",
      "9104 9104 0\n",
      "9158 9158 0\n",
      "9231 9231 1\n",
      "9232 9232 1\n",
      "9370 9370 1\n",
      "9540 9540 0\n",
      "9623 9623 0\n",
      "9630 9630 1\n",
      "9842 9842 1\n",
      "9885 9885 1\n",
      "9934 9934 1\n",
      "10088 10088 0\n",
      "10158 10158 0\n",
      "10418 10418 0\n",
      "10489 10489 1\n",
      "10551 10551 1\n",
      "10587 10587 1\n",
      "10591 10591 1\n",
      "10760 10760 0\n",
      "10843 10843 0\n",
      "11077 11077 0\n",
      "11272 11272 1\n",
      "11321 11321 0\n",
      "11333 11333 0\n",
      "11562 11562 1\n",
      "11869 11869 1\n",
      "11870 11870 0\n",
      "11873 11873 0\n",
      "11914 11914 1\n",
      "11915 11915 1\n",
      "11927 11927 0\n",
      "11972 11972 1\n",
      "12409 12409 1\n",
      "12484 12484 1\n",
      "12679 12679 1\n",
      "12759 12759 1\n",
      "12966 12966 1\n",
      "12973 12973 0\n",
      "13095 13095 1\n",
      "13145 13145 0\n",
      "13407 13407 1\n",
      "258 258 1\n",
      "1278 1278 0\n",
      "4087 4087 0\n",
      "4944 4944 0\n",
      "5479 5479 0\n",
      "6900 6900 0\n",
      "6986 6986 1\n",
      "8174 8174 1\n",
      "8453 8453 1\n",
      "8512 8512 0\n",
      "8658 8658 1\n",
      "9570 9570 1\n",
      "9578 9578 0\n",
      "9697 9697 1\n",
      "9839 9839 0\n",
      "9866 9866 1\n",
      "10106 10106 0\n",
      "10861 10861 1\n",
      "11276 11276 0\n",
      "12327 12327 0\n",
      "16 16 1\n",
      "458 458 0\n",
      "4239 4239 1\n",
      "5028 5028 1\n",
      "5208 5208 0\n",
      "5623 5623 0\n",
      "6171 6171 0\n",
      "6546 6546 0\n",
      "10434 10434 0\n",
      "11105 11105 1\n",
      "11332 11332 1\n",
      "11385 11385 0\n",
      "11497 11497 0\n",
      "11575 11575 0\n",
      "11604 11604 0\n",
      "11728 11728 1\n",
      "11815 11815 0\n",
      "11902 11902 0\n",
      "11903 11903 1\n",
      "12391 12391 1\n",
      "12427 12427 1\n",
      "12534 12534 1\n",
      "12742 12742 1\n",
      "12858 12858 0\n",
      "12870 12870 1\n"
     ]
    }
   ],
   "source": [
    "lr = []\n",
    "ap = []\n",
    "qd = []\n",
    "c = []\n",
    "for pt in pt_list:\n",
    "    for mn in oldman:\n",
    "        if int(mn['pt_id']) == pt:\n",
    "            break\n",
    "    \n",
    "    if mn['hemi'][0] == 'R' or mn['hemi'][0] == 'r':\n",
    "        lr.append(1)\n",
    "        h = 1\n",
    "    else:\n",
    "        lr.append(0)\n",
    "        h = 0\n",
    "    if mn['region'][0] == 'A' or mn['region'][0] == 'a':\n",
    "        ap.append(0)\n",
    "        r = 0\n",
    "    else:\n",
    "        ap.append(1)\n",
    "        r = 1\n",
    "    print(pt, mn['pt_id'], h)    \n",
    "    if h==0 and r==0:\n",
    "        qd.append(0)\n",
    "    elif h ==1 and r==0:\n",
    "        qd.append(1)\n",
    "    elif h ==1 and r==1:\n",
    "        qd.append(2)\n",
    "    else:\n",
    "        qd.append(3)\n",
    "    c.append(mn['Comments'])"
   ]
  },
  {
   "cell_type": "code",
   "execution_count": 156,
   "id": "8abba4ac",
   "metadata": {},
   "outputs": [],
   "source": [
    "df = pd.DataFrame({'pt id': list(pt_sz.keys()),\n",
    "                    'nsz': list(pt_sz.values()), \n",
    "                 'tot dur': durs, \n",
    "                 'sz dur': szdurs, \n",
    "                  'hemi': lr, \n",
    "                  'region': ap, \n",
    "                  'quad':qd,\n",
    "                   'comments':c \n",
    "                  })"
   ]
  },
  {
   "cell_type": "code",
   "execution_count": 157,
   "id": "0f657523",
   "metadata": {},
   "outputs": [],
   "source": [
    "df.to_csv('demo.csv')\n"
   ]
  },
  {
   "cell_type": "code",
   "execution_count": 142,
   "id": "258fc84e",
   "metadata": {},
   "outputs": [
    {
     "data": {
      "text/plain": [
       "OrderedDict([('', '0'),\n",
       "             ('pt_id', '883'),\n",
       "             ('fn', '00000883_s002_t000.npy'),\n",
       "             ('loc', 'data/tuh_windowed/00000883_s002_t000_win.npy'),\n",
       "             ('fs', '200'),\n",
       "             ('duration', '600'),\n",
       "             ('nsamples', '320200'),\n",
       "             ('nchns', '19'),\n",
       "             ('nsz', '10'),\n",
       "             ('sz_starts',\n",
       "              '[20.636, 181.14, 337.1, 489.884, 643.744, 801.684, 944.012, 1118.98, 1273.7128, 1420.072]'),\n",
       "             ('sz_ends',\n",
       "              '[115.516, 277.1, 423.828, 576.86, 733.358, 876.0815, 1026.2029, 1212.088, 1396.068, 1521.948]'),\n",
       "             ('onset_zone', '[2]'),\n",
       "             ('hemi', 'R'),\n",
       "             ('region', 'P'),\n",
       "             ('fp1', '0'),\n",
       "             ('f7', '0'),\n",
       "             ('t3', '0'),\n",
       "             ('t5', '0'),\n",
       "             ('o1', '0'),\n",
       "             ('f3', '0'),\n",
       "             ('c3', '0'),\n",
       "             ('p3', '0'),\n",
       "             ('fz', '0'),\n",
       "             ('cz', '0'),\n",
       "             ('pz', '0'),\n",
       "             ('fp2', '0'),\n",
       "             ('f8', '0'),\n",
       "             ('t4', '1'),\n",
       "             ('t6', '1'),\n",
       "             ('o2', '0'),\n",
       "             ('f4', '0'),\n",
       "             ('c4', '0'),\n",
       "             ('p4', '0'),\n",
       "             ('oz', '0'),\n",
       "             ('a1', '0'),\n",
       "             ('a2', '0'),\n",
       "             ('Comments', 'right temporal')])"
      ]
     },
     "execution_count": 142,
     "metadata": {},
     "output_type": "execute_result"
    }
   ],
   "source": [
    "manifest[0]"
   ]
  },
  {
   "cell_type": "code",
   "execution_count": 158,
   "id": "d1b9e17b",
   "metadata": {},
   "outputs": [
    {
     "data": {
      "text/plain": [
       "54"
      ]
     },
     "execution_count": 158,
     "metadata": {},
     "output_type": "execute_result"
    }
   ],
   "source": [
    "120-66"
   ]
  },
  {
   "cell_type": "code",
   "execution_count": 13,
   "id": "5541aeff",
   "metadata": {},
   "outputs": [],
   "source": [
    "pt1 = np.load('data/lastminute/final_models/fold5/pts_train0.npy')"
   ]
  },
  {
   "cell_type": "code",
   "execution_count": 16,
   "id": "6b53faf8",
   "metadata": {},
   "outputs": [],
   "source": [
    "pt2 = np.load('data/lastminute/crossval_rs0/fold0/pts_train0.npy')"
   ]
  },
  {
   "cell_type": "code",
   "execution_count": 17,
   "id": "79f6902b",
   "metadata": {},
   "outputs": [
    {
     "data": {
      "text/plain": [
       "array([ True,  True,  True,  True,  True,  True,  True,  True,  True,\n",
       "        True,  True,  True,  True,  True,  True,  True,  True,  True,\n",
       "        True,  True,  True,  True,  True,  True,  True,  True,  True,\n",
       "        True,  True,  True,  True,  True,  True,  True,  True,  True,\n",
       "        True,  True,  True,  True,  True,  True,  True,  True,  True,\n",
       "        True,  True,  True,  True,  True,  True,  True,  True,  True,\n",
       "        True,  True,  True,  True,  True,  True,  True,  True,  True,\n",
       "        True,  True,  True,  True,  True,  True,  True,  True,  True,\n",
       "        True,  True,  True,  True,  True,  True,  True,  True,  True,\n",
       "        True,  True,  True,  True,  True,  True,  True,  True,  True,\n",
       "        True,  True,  True,  True,  True,  True,  True,  True,  True,\n",
       "        True])"
      ]
     },
     "execution_count": 17,
     "metadata": {},
     "output_type": "execute_result"
    }
   ],
   "source": [
    "pt1 == pt2"
   ]
  },
  {
   "cell_type": "code",
   "execution_count": null,
   "id": "75f9fdb2",
   "metadata": {},
   "outputs": [],
   "source": []
  }
 ],
 "metadata": {
  "kernelspec": {
   "display_name": "Python 3 (ipykernel)",
   "language": "python",
   "name": "python3"
  },
  "language_info": {
   "codemirror_mode": {
    "name": "ipython",
    "version": 3
   },
   "file_extension": ".py",
   "mimetype": "text/x-python",
   "name": "python",
   "nbconvert_exporter": "python",
   "pygments_lexer": "ipython3",
   "version": "3.7.13"
  }
 },
 "nbformat": 4,
 "nbformat_minor": 5
}
